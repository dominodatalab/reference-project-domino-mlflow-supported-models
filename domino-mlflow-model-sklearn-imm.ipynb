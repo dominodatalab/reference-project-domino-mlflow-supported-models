{
 "cells": [
  {
   "cell_type": "markdown",
   "id": "5bc91639",
   "metadata": {},
   "source": [
    "Install Domino Data SDK (for training set creation)"
   ]
  },
  {
   "cell_type": "code",
   "execution_count": null,
   "id": "3415b07e",
   "metadata": {},
   "outputs": [],
   "source": [
    "pip install --user dominodatalab-data"
   ]
  },
  {
   "cell_type": "markdown",
   "id": "6cd67028",
   "metadata": {},
   "source": [
    "Import libraries"
   ]
  },
  {
   "cell_type": "code",
   "execution_count": null,
   "id": "9309c5a7",
   "metadata": {},
   "outputs": [],
   "source": [
    "import mlflow\n",
    "from mlflow.models import infer_signature"
   ]
  },
  {
   "cell_type": "markdown",
   "id": "3e3976c8",
   "metadata": {},
   "source": [
    "Load Data"
   ]
  },
  {
   "cell_type": "code",
   "execution_count": null,
   "id": "86ae2a9c",
   "metadata": {},
   "outputs": [],
   "source": [
    "from sklearn.datasets import fetch_california_housing\n",
    "from sklearn.model_selection import train_test_split\n",
    "\n",
    "# loading the California housing dataset\n",
    "cali_housing = fetch_california_housing(as_frame=True)\n",
    "\n",
    "# split the dataset into train and test partitions\n",
    "X_train, X_test, y_train, y_test = train_test_split(\n",
    "    cali_housing.data, cali_housing.target, test_size=0.2, random_state=123\n",
    ")"
   ]
  },
  {
   "cell_type": "markdown",
   "id": "d81846d0",
   "metadata": {},
   "source": [
    "Create the training set"
   ]
  },
  {
   "cell_type": "code",
   "execution_count": null,
   "id": "5130bd11",
   "metadata": {},
   "outputs": [],
   "source": [
    "from domino_data.training_sets import client, model\n",
    "import pandas as pd\n",
    "\n",
    "training_df = pd.DataFrame(data = X_train, columns = cali_housing.feature_names)\n",
    "training_df[cali_housing.target_names[0]] = y_train\n",
    "\n",
    "tsv = client.create_training_set_version(\n",
    "    training_set_name=\"cali_housing_regression\",\n",
    "    df=training_df,\n",
    "    key_columns=[],\n",
    "    target_columns=cali_housing.target_names,\n",
    "    exclude_columns=[],\n",
    "    meta={\"experiment_id\": \"0.1\"},\n",
    "    monitoring_meta=model.MonitoringMeta(**{\n",
    "        \"categorical_columns\": [],\n",
    "        \"timestamp_columns\": [],\n",
    "        \"ordinal_columns\": []\n",
    "    })\n",
    ")\n",
    "\n",
    "print(f\"TrainingSetVersion {tsv.training_set_name}:{tsv.number}\")"
   ]
  },
  {
   "cell_type": "markdown",
   "id": "cc896db6",
   "metadata": {},
   "source": [
    "Create Sklearn Model and wrap as a mlflow Python model"
   ]
  },
  {
   "cell_type": "code",
   "execution_count": null,
   "id": "c1c4de4a",
   "metadata": {},
   "outputs": [],
   "source": [
    "from sklearn.linear_model import LinearRegression\n",
    "from domino_data_capture.data_capture_client import DataCaptureClient\n",
    "import uuid\n",
    "import datetime\n",
    "\n",
    "# train the model\n",
    "lin_reg = LinearRegression().fit(X_train, y_train)\n",
    "\n",
    "# Infer model signature\n",
    "predictions = lin_reg.predict(X_train)\n",
    "signature = infer_signature(X_train, predictions)\n",
    "\n",
    "data_capture_client = DataCaptureClient(cali_housing.feature_names, cali_housing.target_names)\n",
    "\n",
    "class HousingModel(mlflow.pyfunc.PythonModel):\n",
    "    def __init__(self,model):\n",
    "        self.model = model\n",
    "    \n",
    "    # Assumes model_input is a list of lists\n",
    "    def predict(self, context, model_input, params=None):\n",
    "        event_time = datetime.datetime.now(datetime.timezone.utc).isoformat()\n",
    "        prediction = self.model.predict(model_input)\n",
    "        \n",
    "        if isinstance(model_input, pd.DataFrame):\n",
    "            model_input = model_input.values.tolist()\n",
    "        \n",
    "        for i in range(len(prediction)):\n",
    "            # Record eventID and current time\n",
    "            event_id = uuid.uuid4()\n",
    "            model_input_value = model_input[i]\n",
    "            prediction_value = [prediction[i]]\n",
    "            \n",
    "            # Capture this prediction event so Domino can keep track\n",
    "            data_capture_client.capturePrediction(model_input_value, prediction_value, event_id=event_id,\n",
    "                                timestamp=event_time)\n",
    "\n",
    "model = HousingModel(lin_reg)"
   ]
  },
  {
   "cell_type": "markdown",
   "id": "9e45cbfb",
   "metadata": {},
   "source": [
    "Create the Pyfunc and log it to MLflow"
   ]
  },
  {
   "cell_type": "code",
   "execution_count": null,
   "id": "c3093132",
   "metadata": {},
   "outputs": [],
   "source": [
    "with mlflow.start_run() as run:\n",
    "    model_info = mlflow.sklearn.log_model(\n",
    "        registered_model_name=\"sklearn-model\", \n",
    "        python_model = model, \n",
    "        artifact_path=\"sklearn-model\", \n",
    "        signature=signature\n",
    "    )\n",
    "\n",
    "print(model_info)"
   ]
  }
 ],
 "metadata": {
  "dca-init": true,
  "kernelspec": {
   "display_name": "Python 3 (ipykernel)",
   "language": "python",
   "name": "python3"
  },
  "language_info": {
   "codemirror_mode": {
    "name": "ipython",
    "version": 3
   },
   "file_extension": ".py",
   "mimetype": "text/x-python",
   "name": "python",
   "nbconvert_exporter": "python",
   "pygments_lexer": "ipython3",
   "version": "3.9.18"
  }
 },
 "nbformat": 4,
 "nbformat_minor": 5
}

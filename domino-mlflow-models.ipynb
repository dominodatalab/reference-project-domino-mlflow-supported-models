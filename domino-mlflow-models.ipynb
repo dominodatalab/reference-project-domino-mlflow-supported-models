{
 "cells": [
  {
   "cell_type": "markdown",
   "id": "a52c0e75",
   "metadata": {},
   "source": [
    "Import common libraries"
   ]
  },
  {
   "cell_type": "code",
   "execution_count": 1,
   "id": "432d6cfc",
   "metadata": {},
   "outputs": [],
   "source": [
    "import mlflow"
   ]
  },
  {
   "cell_type": "markdown",
   "id": "bdb78b55",
   "metadata": {},
   "source": [
    "Models with column based inputs work as is (checkout example below - sklearn). Look at the following examples for models with tensor based inputs work when logged as pyfunc (checkout examples below - xgboost, pytorch, tensorflow and simple python functions). \n",
    "\n",
    "Use the test data (example, X_test for xgboost) or the first element of the test data for sending a request to these models. Once you register them and create a model API in Domino, if you are using the tester on the UI, make sure they are properly formatted and the request is of the form : {\"data\": your test data}\n",
    "\n",
    "Logging models using the following templates works with our model APIs. "
   ]
  },
  {
   "cell_type": "markdown",
   "id": "59361746",
   "metadata": {},
   "source": [
    "XGBOOST (array input)"
   ]
  },
  {
   "cell_type": "code",
   "execution_count": 4,
   "id": "04cf194e",
   "metadata": {},
   "outputs": [
    {
     "name": "stderr",
     "output_type": "stream",
     "text": [
      "Registered model 'pyfunc-xgboost-model' already exists. Creating a new version of this model...\n",
      "2023/09/11 18:37:55 INFO mlflow.tracking._model_registry.client: Waiting up to 300 seconds for model version to finish creation. Model name: pyfunc-xgboost-model, version 2\n",
      "Created version '2' of model 'pyfunc-xgboost-model'.\n"
     ]
    },
    {
     "name": "stdout",
     "output_type": "stream",
     "text": [
      "<mlflow.models.model.ModelInfo object at 0x7f3467449e20>\n"
     ]
    }
   ],
   "source": [
    "from sklearn.datasets import load_iris\n",
    "from sklearn.model_selection import train_test_split\n",
    "from xgboost import XGBClassifier\n",
    "\n",
    "data = load_iris()\n",
    "X_train, X_test, y_train, y_test = train_test_split(\n",
    "    data[\"data\"], data[\"target\"], test_size=0.2\n",
    ")\n",
    "\n",
    "xgb_classifier = XGBClassifier(\n",
    "    n_estimators=10,\n",
    "    max_depth=3,\n",
    "    learning_rate=1,\n",
    "    objective=\"binary:logistic\",\n",
    "    random_state=123,\n",
    ")\n",
    "\n",
    "# train model\n",
    "xgb_classifier.fit(X_train, y_train)\n",
    "\n",
    "class SomeModel(mlflow.pyfunc.PythonModel):\n",
    "    def __init__(self,model):\n",
    "        self.model = model\n",
    "    # Define a function that returns prediction\n",
    "    def nn_func(x):\n",
    "        return self.model.predict(x)\n",
    "\n",
    "model = SomeModel(xgb_classifier)\n",
    "\n",
    "# Create the Pyfunc and log it to MLflow\n",
    "with mlflow.start_run() as run:\n",
    "    model_info = mlflow.pyfunc.log_model(\n",
    "        registered_model_name=\"pyfunc-xgboost-model\", \n",
    "        python_model=model,\n",
    "        artifact_path=\"test-model\"\n",
    "    )\n",
    "print(model_info)"
   ]
  },
  {
   "cell_type": "code",
   "execution_count": 10,
   "id": "247b83bd",
   "metadata": {},
   "outputs": [
    {
     "data": {
      "text/plain": [
       "inputs: \n",
       "  [Tensor('float64', (-1, 4))]\n",
       "outputs: \n",
       "  [Tensor('int64', (-1,))]\n",
       "params: \n",
       "  None"
      ]
     },
     "execution_count": 10,
     "metadata": {},
     "output_type": "execute_result"
    }
   ],
   "source": [
    "signature"
   ]
  },
  {
   "cell_type": "markdown",
   "id": "4cf34fd7",
   "metadata": {},
   "source": [
    "SKLEARN (column based inputs)"
   ]
  },
  {
   "cell_type": "code",
   "execution_count": 3,
   "id": "ad66b343",
   "metadata": {},
   "outputs": [
    {
     "name": "stderr",
     "output_type": "stream",
     "text": [
      "Successfully registered model 'sklearn-model'.\n",
      "2023/08/31 22:27:39 INFO mlflow.tracking._model_registry.client: Waiting up to 300 seconds for model version to finish creation. Model name: sklearn-model, version 1\n",
      "Created version '1' of model 'sklearn-model'.\n"
     ]
    }
   ],
   "source": [
    "from sklearn.linear_model import LinearRegression\n",
    "from sklearn.datasets import fetch_california_housing\n",
    "from sklearn.model_selection import train_test_split\n",
    "\n",
    "\n",
    "# loading the California housing dataset\n",
    "cali_housing = fetch_california_housing(as_frame=True)\n",
    "\n",
    "# split the dataset into train and test partitions\n",
    "X_train, X_test, y_train, y_test = train_test_split(\n",
    "    cali_housing.data, cali_housing.target, test_size=0.2, random_state=123\n",
    ")\n",
    "\n",
    "# train the model\n",
    "lin_reg = LinearRegression().fit(X_train, y_train)\n",
    "\n",
    "# Infer model signature\n",
    "predictions = lin_reg.predict(X_train)\n",
    "signature = infer_signature(X_train, predictions)\n",
    "\n",
    "\n",
    "with mlflow.start_run() as run:\n",
    "    mlflow.sklearn.log_model(lin_reg, registered_model_name=\"sklearn-model\", artifact_path=\"sklearn-model\", signature=signature)\n",
    "mlflow.end_run()"
   ]
  },
  {
   "cell_type": "code",
   "execution_count": 4,
   "id": "5c657126",
   "metadata": {},
   "outputs": [
    {
     "data": {
      "text/plain": [
       "inputs: \n",
       "  ['MedInc': double, 'HouseAge': double, 'AveRooms': double, 'AveBedrms': double, 'Population': double, 'AveOccup': double, 'Latitude': double, 'Longitude': double]\n",
       "outputs: \n",
       "  [Tensor('float64', (-1,))]\n",
       "params: \n",
       "  None"
      ]
     },
     "execution_count": 4,
     "metadata": {},
     "output_type": "execute_result"
    }
   ],
   "source": [
    "signature"
   ]
  },
  {
   "cell_type": "markdown",
   "id": "53eca3ac",
   "metadata": {},
   "source": [
    "TENSORFLOW (tensor based inputs)"
   ]
  },
  {
   "cell_type": "code",
   "execution_count": 11,
   "id": "28dac6c7",
   "metadata": {},
   "outputs": [
    {
     "name": "stderr",
     "output_type": "stream",
     "text": [
      "2023-09-07 23:53:18.487915: I tensorflow/core/platform/cpu_feature_guard.cc:182] This TensorFlow binary is optimized to use available CPU instructions in performance-critical operations.\n",
      "To enable the following instructions: AVX2 FMA, in other operations, rebuild TensorFlow with the appropriate compiler flags.\n",
      "2023-09-07 23:53:19.745071: W tensorflow/compiler/tf2tensorrt/utils/py_utils.cc:38] TF-TRT Warning: Could not find TensorRT\n"
     ]
    },
    {
     "name": "stdout",
     "output_type": "stream",
     "text": [
      "Downloading data from https://storage.googleapis.com/tensorflow/tf-keras-datasets/mnist.npz\n",
      "11490434/11490434 [==============================] - 1s 0us/step\n",
      "Epoch 1/5\n",
      "1875/1875 [==============================] - 6s 3ms/step - loss: 0.2939 - accuracy: 0.9151\n",
      "Epoch 2/5\n",
      "1875/1875 [==============================] - 5s 3ms/step - loss: 0.1426 - accuracy: 0.9582\n",
      "Epoch 3/5\n",
      "1875/1875 [==============================] - 5s 3ms/step - loss: 0.1059 - accuracy: 0.9679\n",
      "Epoch 4/5\n",
      "1875/1875 [==============================] - 5s 3ms/step - loss: 0.0874 - accuracy: 0.9732\n",
      "Epoch 5/5\n",
      "1875/1875 [==============================] - 5s 3ms/step - loss: 0.0742 - accuracy: 0.9771\n"
     ]
    },
    {
     "name": "stderr",
     "output_type": "stream",
     "text": [
      "/opt/conda/lib/python3.9/site-packages/_distutils_hack/__init__.py:18: UserWarning: Distutils was imported before Setuptools, but importing Setuptools also replaces the `distutils` module in `sys.modules`. This may lead to undesirable behaviors or errors. To avoid these issues, avoid using distutils directly, ensure that setuptools is installed in the traditional way (e.g. not an editable install), and/or make sure that setuptools is always imported before distutils.\n",
      "  warnings.warn(\n",
      "/opt/conda/lib/python3.9/site-packages/_distutils_hack/__init__.py:33: UserWarning: Setuptools is replacing distutils.\n",
      "  warnings.warn(\"Setuptools is replacing distutils.\")\n",
      "Successfully registered model 'pyfunc-tensorflow-model'.\n",
      "2023/09/07 23:53:50 INFO mlflow.tracking._model_registry.client: Waiting up to 300 seconds for model version to finish creation. Model name: pyfunc-tensorflow-model, version 1\n",
      "Created version '1' of model 'pyfunc-tensorflow-model'.\n"
     ]
    },
    {
     "name": "stdout",
     "output_type": "stream",
     "text": [
      "<mlflow.models.model.ModelInfo object at 0x7efdba8e5d90>\n"
     ]
    }
   ],
   "source": [
    "import tensorflow as tf\n",
    "\n",
    "mnist = tf.keras.datasets.mnist\n",
    "(x_train, y_train), (x_test, y_test) = mnist.load_data()\n",
    "x_train, x_test = x_train / 255.0, x_test / 255.0\n",
    "\n",
    "model = tf.keras.models.Sequential(\n",
    "    [\n",
    "        tf.keras.layers.Flatten(input_shape=(28, 28)),\n",
    "        tf.keras.layers.Dense(128, activation=\"relu\"),\n",
    "        tf.keras.layers.Dropout(0.2),\n",
    "        tf.keras.layers.Dense(10),\n",
    "    ]\n",
    ")\n",
    "loss_fn = tf.keras.losses.SparseCategoricalCrossentropy(from_logits=True)\n",
    "model.compile(optimizer=\"adam\", loss=loss_fn, metrics=[\"accuracy\"])\n",
    "\n",
    "# train model \n",
    "model.fit(x_train, y_train, epochs=5)\n",
    "\n",
    "class SomeModel(mlflow.pyfunc.PythonModel):\n",
    "    def __init__(self,model):\n",
    "        self.model = model\n",
    "    # Define a function that returns prediction\n",
    "    def nn_func(x):\n",
    "        return self.model.predict(x)\n",
    "\n",
    "model_tf = SomeModel(model)\n",
    "\n",
    "# Create the Pyfunc and log it to MLflow\n",
    "with mlflow.start_run() as run:\n",
    "    model_info = mlflow.pyfunc.log_model(\n",
    "        registered_model_name=\"pyfunc-tensorflow-model\", \n",
    "        python_model=model_tf,\n",
    "        artifact_path=\"test-model\",\n",
    "        pip_requirements=[\"tensorflow\"]\n",
    "    )\n",
    "print(model_info)"
   ]
  },
  {
   "cell_type": "code",
   "execution_count": 24,
   "id": "5f6f272b",
   "metadata": {},
   "outputs": [
    {
     "data": {
      "text/plain": [
       "inputs: \n",
       "  [Tensor('float64', (-1, 28, 28))]\n",
       "outputs: \n",
       "  [Tensor('float32', (-1, 10))]\n",
       "params: \n",
       "  None"
      ]
     },
     "execution_count": 24,
     "metadata": {},
     "output_type": "execute_result"
    }
   ],
   "source": [
    "signature"
   ]
  },
  {
   "cell_type": "markdown",
   "id": "92beb079",
   "metadata": {},
   "source": [
    "PYTORCH (tensor based inputs)"
   ]
  },
  {
   "cell_type": "code",
   "execution_count": 3,
   "id": "7c29714a",
   "metadata": {},
   "outputs": [
    {
     "name": "stderr",
     "output_type": "stream",
     "text": [
      "Successfully registered model 'pyfunc-torch-model-4'.\n",
      "2023/09/07 21:56:24 INFO mlflow.tracking._model_registry.client: Waiting up to 300 seconds for model version to finish creation. Model name: pyfunc-torch-model-4, version 1\n",
      "Created version '1' of model 'pyfunc-torch-model-4'.\n"
     ]
    },
    {
     "name": "stdout",
     "output_type": "stream",
     "text": [
      "<mlflow.models.model.ModelInfo object at 0x7efe5d6e5f70>\n"
     ]
    }
   ],
   "source": [
    "import mlflow.pyfunc\n",
    "import numpy as np\n",
    "import torch\n",
    "from torch import nn\n",
    "\n",
    "net = nn.Linear(6, 1)\n",
    "loss_function = nn.L1Loss()\n",
    "optimizer = torch.optim.Adam(net.parameters(), lr=1e-4)\n",
    "\n",
    "X = torch.randn(6)\n",
    "y = torch.randn(1)\n",
    "\n",
    "# train model \n",
    "epochs = 5\n",
    "for epoch in range(epochs):\n",
    "    optimizer.zero_grad()\n",
    "    outputs = net(X)\n",
    "\n",
    "    loss = loss_function(outputs, y)\n",
    "    loss.backward()\n",
    "\n",
    "    optimizer.step()\n",
    "\n",
    "class SomeModel(mlflow.pyfunc.PythonModel):\n",
    "    def __init__(self,model):\n",
    "        self.model = model\n",
    "    # Define a function that returns prediction\n",
    "    def nn_func(x):\n",
    "        return self.model(x).detach().numpy()\n",
    "\n",
    "model = SomeModel(net)\n",
    "\n",
    "# Create the Pyfunc and log it to MLflow\n",
    "with mlflow.start_run() as run:\n",
    "    model_info = mlflow.pyfunc.log_model(\n",
    "        registered_model_name=\"pyfunc-torch-model-4\", # important,\n",
    "        python_model=model,\n",
    "        artifact_path=\"test-model-4\",\n",
    "        pip_requirements=[\"torch\"]\n",
    "    )\n",
    "print(model_info)"
   ]
  },
  {
   "cell_type": "code",
   "execution_count": 13,
   "id": "6dc9d039",
   "metadata": {},
   "outputs": [
    {
     "data": {
      "text/plain": [
       "inputs: \n",
       "  [Tensor('float32', (-1,))]\n",
       "outputs: \n",
       "  [Tensor('float32', (-1,))]\n",
       "params: \n",
       "  None"
      ]
     },
     "execution_count": 13,
     "metadata": {},
     "output_type": "execute_result"
    }
   ],
   "source": [
    "signature"
   ]
  },
  {
   "cell_type": "markdown",
   "id": "b7469e3d",
   "metadata": {},
   "source": [
    "CUSTOM PYTHON FUNCTION (tensor based inputs)"
   ]
  },
  {
   "cell_type": "markdown",
   "id": "7b04dc96",
   "metadata": {},
   "source": [
    "Simple python function with artifact"
   ]
  },
  {
   "cell_type": "code",
   "execution_count": null,
   "id": "fa17aa36",
   "metadata": {},
   "outputs": [],
   "source": [
    "import mlflow.pyfunc\n",
    "import numpy as np\n",
    "import pandas as pd\n",
    "\n",
    "class SomeModel(mlflow.pyfunc.PythonModel):\n",
    "    # Define a function that takes in a NumPy array and returns its sum\n",
    "    def sum_func(arr):\n",
    "        return np.sum(arr)\n",
    "\n",
    "# Define a function that generates an artifact in memory\n",
    "def generate_artifact():\n",
    "    data = pd.DataFrame({\"a\": [1, 2, 3], \"b\": [4, 5, 6]})\n",
    "    return data.to_csv(\"data.csv\", index=False)\n",
    "\n",
    "generate_artifact()\n",
    "model = SomeModel()\n",
    "\n",
    "# Create the Pyfunc and log it to MLflow\n",
    "with mlflow.start_run() as run:\n",
    "    model_info = mlflow.pyfunc.log_model(\n",
    "        registered_model_name=\"test\", \n",
    "        python_model=model,\n",
    "        artifact_path=\"test-model\",\n",
    "        artifacts={\"model_file\": \"data.csv\"}\n",
    "    )\n",
    "print(model_info)"
   ]
  },
  {
   "cell_type": "markdown",
   "id": "56bbb096",
   "metadata": {},
   "source": [
    "Simple python function without artifact "
   ]
  },
  {
   "cell_type": "code",
   "execution_count": null,
   "id": "867b9b83",
   "metadata": {},
   "outputs": [],
   "source": [
    "class SomeModel(mlflow.pyfunc.PythonModel):\n",
    "    # Define a function that takes in a NumPy array and returns its sum\n",
    "    def sum_func(arr):\n",
    "        return np.sum(arr)\n",
    "\n",
    "# # Define a function that generates an artifact in memory\n",
    "# def generate_artifact():\n",
    "#     data = pd.DataFrame({\"a\": [1, 2, 3], \"b\": [4, 5, 6]})\n",
    "#     return data.to_csv(\"data.csv\", index=False)\n",
    "\n",
    "# generate_artifact()\n",
    "model = SomeModel()\n",
    "\n",
    "# Create the Pyfunc and log it to MLflow\n",
    "with mlflow.start_run() as run:\n",
    "    model_info = mlflow.pyfunc.log_model(\n",
    "        registered_model_name=\"test-wo-artifact\",\n",
    "        python_model=model,\n",
    "        artifact_path=\"test-model-1\"\n",
    "        #artifacts={\"model_file\": \"data.csv\"}\n",
    "    )\n",
    "print(model_info)"
   ]
  }
 ],
 "metadata": {
  "dca-init": true,
  "kernelspec": {
   "display_name": "Python 3 (ipykernel)",
   "language": "python",
   "name": "python3"
  },
  "language_info": {
   "codemirror_mode": {
    "name": "ipython",
    "version": 3
   },
   "file_extension": ".py",
   "mimetype": "text/x-python",
   "name": "python",
   "nbconvert_exporter": "python",
   "pygments_lexer": "ipython3",
   "version": "3.11.4"
  }
 },
 "nbformat": 4,
 "nbformat_minor": 5
}

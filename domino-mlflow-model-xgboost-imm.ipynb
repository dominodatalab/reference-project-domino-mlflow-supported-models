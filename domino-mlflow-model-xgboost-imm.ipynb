{
 "cells": [
  {
   "cell_type": "markdown",
   "id": "5bc91639",
   "metadata": {},
   "source": [
    "Install Domino Data SDK (for training set creation)"
   ]
  },
  {
   "cell_type": "code",
   "execution_count": null,
   "id": "3415b07e",
   "metadata": {},
   "outputs": [],
   "source": [
    "pip install --user dominodatalab-data"
   ]
  },
  {
   "cell_type": "markdown",
   "id": "6cd67028",
   "metadata": {},
   "source": [
    "Import libraries"
   ]
  },
  {
   "cell_type": "code",
   "execution_count": null,
   "id": "9309c5a7",
   "metadata": {},
   "outputs": [],
   "source": [
    "import mlflow"
   ]
  },
  {
   "cell_type": "markdown",
   "id": "3e3976c8",
   "metadata": {},
   "source": [
    "Load Data"
   ]
  },
  {
   "cell_type": "code",
   "execution_count": null,
   "id": "86ae2a9c",
   "metadata": {},
   "outputs": [],
   "source": [
    "from sklearn.datasets import load_iris\n",
    "from sklearn.model_selection import train_test_split\n",
    "\n",
    "data = load_iris()\n",
    "X_train, X_test, y_train, y_test = train_test_split(\n",
    "    data[\"data\"], data[\"target\"], test_size=0.2\n",
    ")"
   ]
  },
  {
   "cell_type": "markdown",
   "id": "d81846d0",
   "metadata": {},
   "source": [
    "Create the training set"
   ]
  },
  {
   "cell_type": "code",
   "execution_count": null,
   "id": "5130bd11",
   "metadata": {},
   "outputs": [],
   "source": [
    "from domino_data.training_sets import client, model\n",
    "import pandas as pd\n",
    "\n",
    "target_column_name = \"variety\"\n",
    "\n",
    "training_df = pd.DataFrame(data = X_train, columns = data.feature_names)\n",
    "training_df[target_column_name] = [data.target_names[y] for y in y_train]\n",
    "\n",
    "tsv = client.create_training_set_version(\n",
    "    training_set_name=\"iris_python_classification\",\n",
    "    df=training_df,\n",
    "    key_columns=[],\n",
    "    target_columns=[target_column_name],\n",
    "    exclude_columns=[],\n",
    "    meta={\"experiment_id\": \"0.1\"},\n",
    "    monitoring_meta=model.MonitoringMeta(**{\n",
    "        \"categorical_columns\": [target_column_name],\n",
    "        \"timestamp_columns\": [],\n",
    "        \"ordinal_columns\": []\n",
    "    })\n",
    ")\n",
    "\n",
    "print(f\"TrainingSetVersion {tsv.training_set_name}:{tsv.number}\")"
   ]
  },
  {
   "cell_type": "markdown",
   "id": "cc896db6",
   "metadata": {},
   "source": [
    "Create XGBoost Model and wrap as a mlflow Python model"
   ]
  },
  {
   "cell_type": "code",
   "execution_count": null,
   "id": "c1c4de4a",
   "metadata": {},
   "outputs": [],
   "source": [
    "from xgboost import XGBClassifier\n",
    "from domino_data_capture.data_capture_client import DataCaptureClient\n",
    "import uuid\n",
    "import datetime\n",
    "\n",
    "xgb_classifier = XGBClassifier(\n",
    "    n_estimators=10,\n",
    "    max_depth=3,\n",
    "    learning_rate=1,\n",
    "    objective=\"binary:logistic\",\n",
    "    random_state=123,\n",
    ")\n",
    "\n",
    "# train model\n",
    "xgb_classifier.fit(X_train, y_train)\n",
    "\n",
    "data_capture_client = DataCaptureClient(data.feature_names, [target_column_name])\n",
    "\n",
    "class IrisModel(mlflow.pyfunc.PythonModel):\n",
    "    def __init__(self,model):\n",
    "        self.model = model\n",
    "    \n",
    "    def predict(self, context, model_input, params=None):\n",
    "        event_time = datetime.datetime.now(datetime.timezone.utc).isoformat()\n",
    "        prediction = self.model.predict(model_input)\n",
    "        \n",
    "        for i in range(len(prediction)):\n",
    "            # Record eventID and current time\n",
    "            event_id = uuid.uuid4()\n",
    "            # Convert np types to python builtin type to allow JSON serialization by prediction capture library\n",
    "            model_input_value = [float(x) for x in model_input[i]]\n",
    "            prediction_value = [data.target_names[prediction[i]]]\n",
    "            \n",
    "            # Capture this prediction event so Domino can keep track\n",
    "            data_capture_client.capturePrediction(model_input_value, prediction_value, event_id=event_id,\n",
    "                                timestamp=event_time)\n",
    "        return prediction\n",
    "\n",
    "model = IrisModel(xgb_classifier)"
   ]
  },
  {
   "cell_type": "markdown",
   "id": "9e45cbfb",
   "metadata": {},
   "source": [
    "Create the Pyfunc and log it to MLflow"
   ]
  },
  {
   "cell_type": "code",
   "execution_count": null,
   "id": "c3093132",
   "metadata": {},
   "outputs": [],
   "source": [
    "with mlflow.start_run() as run:\n",
    "    model_info = mlflow.pyfunc.log_model(\n",
    "        registered_model_name=\"pyfunc-xgboost-model\", # important,\n",
    "        python_model=model,\n",
    "        artifact_path=\"test-model\"\n",
    "    )\n",
    "print(model_info)"
   ]
  }
 ],
 "metadata": {
  "dca-init": true,
  "kernelspec": {
   "display_name": "Python 3 (ipykernel)",
   "language": "python",
   "name": "python3"
  },
  "language_info": {
   "codemirror_mode": {
    "name": "ipython",
    "version": 3
   },
   "file_extension": ".py",
   "mimetype": "text/x-python",
   "name": "python",
   "nbconvert_exporter": "python",
   "pygments_lexer": "ipython3",
   "version": "3.11.4"
  }
 },
 "nbformat": 4,
 "nbformat_minor": 5
}
